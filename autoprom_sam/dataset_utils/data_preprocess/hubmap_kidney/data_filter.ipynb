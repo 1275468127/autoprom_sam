{
 "cells": [
  {
   "cell_type": "code",
   "execution_count": 9,
   "metadata": {},
   "outputs": [],
   "source": [
    "import pandas as pd"
   ]
  },
  {
   "cell_type": "code",
   "execution_count": 10,
   "metadata": {},
   "outputs": [],
   "source": [
    "df = pd.read_csv(\"./segmentation_data.csv\")"
   ]
  },
  {
   "cell_type": "code",
   "execution_count": 11,
   "metadata": {},
   "outputs": [
    {
     "data": {
      "text/plain": [
       "6694"
      ]
     },
     "execution_count": 11,
     "metadata": {},
     "output_type": "execute_result"
    }
   ],
   "source": [
    "len(df)"
   ]
  },
  {
   "cell_type": "code",
   "execution_count": 12,
   "metadata": {},
   "outputs": [
    {
     "data": {
      "text/plain": [
       "Index(['Image Name', 'Image Path', 'bbox_coord', 'num_patch', 'bbox_format'], dtype='object')"
      ]
     },
     "execution_count": 12,
     "metadata": {},
     "output_type": "execute_result"
    }
   ],
   "source": [
    "df.columns"
   ]
  },
  {
   "cell_type": "code",
   "execution_count": 13,
   "metadata": {},
   "outputs": [],
   "source": [
    "filtered = df[df[\"bbox_coord\"].apply(lambda x: True if len(eval(x))>0 else False)]"
   ]
  },
  {
   "cell_type": "code",
   "execution_count": 14,
   "metadata": {},
   "outputs": [],
   "source": [
    "f = filtered.reset_index(drop=True)"
   ]
  },
  {
   "cell_type": "code",
   "execution_count": 15,
   "metadata": {},
   "outputs": [
    {
     "data": {
      "text/html": [
       "<div>\n",
       "<style scoped>\n",
       "    .dataframe tbody tr th:only-of-type {\n",
       "        vertical-align: middle;\n",
       "    }\n",
       "\n",
       "    .dataframe tbody tr th {\n",
       "        vertical-align: top;\n",
       "    }\n",
       "\n",
       "    .dataframe thead th {\n",
       "        text-align: right;\n",
       "    }\n",
       "</style>\n",
       "<table border=\"1\" class=\"dataframe\">\n",
       "  <thead>\n",
       "    <tr style=\"text-align: right;\">\n",
       "      <th></th>\n",
       "      <th>Image Name</th>\n",
       "      <th>Image Path</th>\n",
       "      <th>bbox_coord</th>\n",
       "      <th>num_patch</th>\n",
       "      <th>bbox_format</th>\n",
       "    </tr>\n",
       "  </thead>\n",
       "  <tbody>\n",
       "    <tr>\n",
       "      <th>0</th>\n",
       "      <td>26dc41664_014_024_image.jpg</td>\n",
       "      <td>/home/humanoid/datasets/Hubmap-kidney/train_pa...</td>\n",
       "      <td>[[59.0, 3.5, 30, 7]]</td>\n",
       "      <td>1</td>\n",
       "      <td>cx_cy_w_h</td>\n",
       "    </tr>\n",
       "    <tr>\n",
       "      <th>1</th>\n",
       "      <td>26dc41664_003_015_image.jpg</td>\n",
       "      <td>/home/humanoid/datasets/Hubmap-kidney/train_pa...</td>\n",
       "      <td>[[2.5, 246.0, 5, 20]]</td>\n",
       "      <td>1</td>\n",
       "      <td>cx_cy_w_h</td>\n",
       "    </tr>\n",
       "    <tr>\n",
       "      <th>2</th>\n",
       "      <td>26dc41664_006_006_image.jpg</td>\n",
       "      <td>/home/humanoid/datasets/Hubmap-kidney/train_pa...</td>\n",
       "      <td>[[178.0, 7.0, 36, 14]]</td>\n",
       "      <td>1</td>\n",
       "      <td>cx_cy_w_h</td>\n",
       "    </tr>\n",
       "    <tr>\n",
       "      <th>3</th>\n",
       "      <td>26dc41664_006_004_image.jpg</td>\n",
       "      <td>/home/humanoid/datasets/Hubmap-kidney/train_pa...</td>\n",
       "      <td>[[83.5, 9.0, 31, 18]]</td>\n",
       "      <td>1</td>\n",
       "      <td>cx_cy_w_h</td>\n",
       "    </tr>\n",
       "    <tr>\n",
       "      <th>4</th>\n",
       "      <td>26dc41664_003_014_image.jpg</td>\n",
       "      <td>/home/humanoid/datasets/Hubmap-kidney/train_pa...</td>\n",
       "      <td>[[177.5, 244.0, 39, 24]]</td>\n",
       "      <td>1</td>\n",
       "      <td>cx_cy_w_h</td>\n",
       "    </tr>\n",
       "  </tbody>\n",
       "</table>\n",
       "</div>"
      ],
      "text/plain": [
       "                    Image Name  \\\n",
       "0  26dc41664_014_024_image.jpg   \n",
       "1  26dc41664_003_015_image.jpg   \n",
       "2  26dc41664_006_006_image.jpg   \n",
       "3  26dc41664_006_004_image.jpg   \n",
       "4  26dc41664_003_014_image.jpg   \n",
       "\n",
       "                                          Image Path  \\\n",
       "0  /home/humanoid/datasets/Hubmap-kidney/train_pa...   \n",
       "1  /home/humanoid/datasets/Hubmap-kidney/train_pa...   \n",
       "2  /home/humanoid/datasets/Hubmap-kidney/train_pa...   \n",
       "3  /home/humanoid/datasets/Hubmap-kidney/train_pa...   \n",
       "4  /home/humanoid/datasets/Hubmap-kidney/train_pa...   \n",
       "\n",
       "                 bbox_coord  num_patch bbox_format  \n",
       "0      [[59.0, 3.5, 30, 7]]          1   cx_cy_w_h  \n",
       "1     [[2.5, 246.0, 5, 20]]          1   cx_cy_w_h  \n",
       "2    [[178.0, 7.0, 36, 14]]          1   cx_cy_w_h  \n",
       "3     [[83.5, 9.0, 31, 18]]          1   cx_cy_w_h  \n",
       "4  [[177.5, 244.0, 39, 24]]          1   cx_cy_w_h  "
      ]
     },
     "execution_count": 15,
     "metadata": {},
     "output_type": "execute_result"
    }
   ],
   "source": [
    "f.head()"
   ]
  },
  {
   "cell_type": "code",
   "execution_count": 16,
   "metadata": {},
   "outputs": [
    {
     "data": {
      "text/plain": [
       "2355"
      ]
     },
     "execution_count": 16,
     "metadata": {},
     "output_type": "execute_result"
    }
   ],
   "source": [
    "len(f)"
   ]
  },
  {
   "cell_type": "code",
   "execution_count": 17,
   "metadata": {},
   "outputs": [],
   "source": [
    "f.to_csv(\"filtered_dataset.csv\",index=False)"
   ]
  },
  {
   "cell_type": "code",
   "execution_count": 23,
   "metadata": {},
   "outputs": [
    {
     "data": {
      "text/plain": [
       "1062"
      ]
     },
     "execution_count": 23,
     "metadata": {},
     "output_type": "execute_result"
    }
   ],
   "source": [
    "len(f)"
   ]
  },
  {
   "cell_type": "code",
   "execution_count": null,
   "metadata": {},
   "outputs": [],
   "source": []
  }
 ],
 "metadata": {
  "kernelspec": {
   "display_name": "jupyter_ws",
   "language": "python",
   "name": "python3"
  },
  "language_info": {
   "codemirror_mode": {
    "name": "ipython",
    "version": 3
   },
   "file_extension": ".py",
   "mimetype": "text/x-python",
   "name": "python",
   "nbconvert_exporter": "python",
   "pygments_lexer": "ipython3",
   "version": "3.9.13"
  },
  "orig_nbformat": 4
 },
 "nbformat": 4,
 "nbformat_minor": 2
}
